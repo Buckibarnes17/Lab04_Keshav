{
 "cells": [
  {
   "cell_type": "code",
   "execution_count": 4,
   "metadata": {},
   "outputs": [
    {
     "data": {
      "text/html": [
       "<div>\n",
       "<style scoped>\n",
       "    .dataframe tbody tr th:only-of-type {\n",
       "        vertical-align: middle;\n",
       "    }\n",
       "\n",
       "    .dataframe tbody tr th {\n",
       "        vertical-align: top;\n",
       "    }\n",
       "\n",
       "    .dataframe thead th {\n",
       "        text-align: right;\n",
       "    }\n",
       "</style>\n",
       "<table border=\"1\" class=\"dataframe\">\n",
       "  <thead>\n",
       "    <tr style=\"text-align: right;\">\n",
       "      <th></th>\n",
       "      <th>Id</th>\n",
       "      <th>Name</th>\n",
       "      <th>Age</th>\n",
       "      <th>Salary</th>\n",
       "    </tr>\n",
       "  </thead>\n",
       "  <tbody>\n",
       "    <tr>\n",
       "      <th>0</th>\n",
       "      <td>161E90</td>\n",
       "      <td>Raman</td>\n",
       "      <td>40</td>\n",
       "      <td>50000</td>\n",
       "    </tr>\n",
       "    <tr>\n",
       "      <th>1</th>\n",
       "      <td>161E90</td>\n",
       "      <td>Raman</td>\n",
       "      <td>30</td>\n",
       "      <td>60000</td>\n",
       "    </tr>\n",
       "    <tr>\n",
       "      <th>2</th>\n",
       "      <td>161F99</td>\n",
       "      <td>Jaya</td>\n",
       "      <td>50</td>\n",
       "      <td>80000</td>\n",
       "    </tr>\n",
       "    <tr>\n",
       "      <th>3</th>\n",
       "      <td>171E20</td>\n",
       "      <td>Tejas</td>\n",
       "      <td>30</td>\n",
       "      <td>50000</td>\n",
       "    </tr>\n",
       "    <tr>\n",
       "      <th>4</th>\n",
       "      <td>171G30</td>\n",
       "      <td>Ajay</td>\n",
       "      <td>40</td>\n",
       "      <td>40000</td>\n",
       "    </tr>\n",
       "  </tbody>\n",
       "</table>\n",
       "</div>"
      ],
      "text/plain": [
       "       Id   Name  Age  Salary\n",
       "0  161E90  Raman   40   50000\n",
       "1  161E90  Raman   30   60000\n",
       "2  161F99   Jaya   50   80000\n",
       "3  171E20  Tejas   30   50000\n",
       "4  171G30   Ajay   40   40000"
      ]
     },
     "execution_count": 4,
     "metadata": {},
     "output_type": "execute_result"
    }
   ],
   "source": [
    "import pandas as pd\n",
    "df=pd.DataFrame( {'Id':['161E90','161E90','161F99','171E20','171G30'],'Name':['Raman','Raman','Jaya','Tejas','Ajay'],'Age':[40,30,50,30,40],'Salary':[50000,60000,80000,50000,40000]})\n",
    "df"
   ]
  },
  {
   "cell_type": "code",
   "execution_count": 5,
   "metadata": {},
   "outputs": [
    {
     "name": "stdout",
     "output_type": "stream",
     "text": [
      "Enter 1 for searching by age\n",
      "Enter 2 for searching by Name\n",
      "Enter 3 for searching by Salary\n",
      "Enter 4 to exit\n",
      "       Id  Name  Age  Salary\n",
      "2  161F99  Jaya   50   80000\n",
      "Enter 1 for searching by age\n",
      "Enter 2 for searching by Name\n",
      "Enter 3 for searching by Salary\n",
      "Enter 4 to exit\n"
     ]
    }
   ],
   "source": [
    "a=True\n",
    "while(a):\n",
    "    print('Enter 1 for searching by age')\n",
    "    print('Enter 2 for searching by Name')\n",
    "    print('Enter 3 for searching by Salary')\n",
    "    print('Enter 4 to exit')\n",
    "    b=int(input())\n",
    "    if b==1:\n",
    "        c=int(input('Enter the age'))\n",
    "        print(df[df['Age']==c])\n",
    "    elif b==2:\n",
    "        d=input('Enter Name')\n",
    "        print(df[df['Name']==d])\n",
    "    elif b==3:\n",
    "        c=int(input(\"Enter Salary\"))\n",
    "        d=input(\"Enter (>, <, <=, >=)\")\n",
    "        if d=='>':\n",
    "            print(df[df['Salary']>c])\n",
    "        if d=='<':\n",
    "            print(df[df['Salary']<c])\n",
    "        if d=='>=':\n",
    "            print(df[df['Salary']>=c])\n",
    "        if d=='<=':\n",
    "            print(df[df['Salary']<=c])\n",
    "        if d=='=':\n",
    "            print(df[df['Salary']==c])\n",
    "    else:\n",
    "        a=False"
   ]
  }
 ],
 "metadata": {
  "kernelspec": {
   "display_name": "base",
   "language": "python",
   "name": "python3"
  },
  "language_info": {
   "codemirror_mode": {
    "name": "ipython",
    "version": 3
   },
   "file_extension": ".py",
   "mimetype": "text/x-python",
   "name": "python",
   "nbconvert_exporter": "python",
   "pygments_lexer": "ipython3",
   "version": "3.11.3"
  },
  "orig_nbformat": 4
 },
 "nbformat": 4,
 "nbformat_minor": 2
}
